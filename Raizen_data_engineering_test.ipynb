{
  "nbformat": 4,
  "nbformat_minor": 0,
  "metadata": {
    "colab": {
      "name": "Raizen-data-engineering-test.ipynb",
      "provenance": []
    },
    "kernelspec": {
      "name": "python3",
      "display_name": "Python 3"
    },
    "language_info": {
      "name": "python"
    }
  },
  "cells": [
    {
      "cell_type": "markdown",
      "source": [
        "O xlrd e o openpyxl devem ser instalados para que possamos lê e manipular arquivos excel\n",
        "\n"
      ],
      "metadata": {
        "id": "v56PCfUyKKxY"
      }
    },
    {
      "cell_type": "code",
      "execution_count": 347,
      "metadata": {
        "colab": {
          "base_uri": "https://localhost:8080/"
        },
        "id": "jxR_Z9JF8uF_",
        "outputId": "f3f56621-b1fe-423e-9636-8174e84ecf41"
      },
      "outputs": [
        {
          "output_type": "stream",
          "name": "stdout",
          "text": [
            "Looking in indexes: https://pypi.org/simple, https://us-python.pkg.dev/colab-wheels/public/simple/\n",
            "Requirement already satisfied: xlrd==1.2.0 in /usr/local/lib/python3.7/dist-packages (1.2.0)\n",
            "Looking in indexes: https://pypi.org/simple, https://us-python.pkg.dev/colab-wheels/public/simple/\n",
            "Requirement already satisfied: openpyxl in /usr/local/lib/python3.7/dist-packages (3.0.10)\n",
            "Requirement already satisfied: et-xmlfile in /usr/local/lib/python3.7/dist-packages (from openpyxl) (1.1.0)\n"
          ]
        }
      ],
      "source": [
        "!pip install xlrd==1.2.0\n",
        "!pip install openpyxl\n"
      ]
    },
    {
      "cell_type": "markdown",
      "source": [
        ""
      ],
      "metadata": {
        "id": "CA9vpjTjKIzc"
      }
    },
    {
      "cell_type": "code",
      "source": [
        "import pandas as pd\n",
        "import openpyxl \n",
        "import datetime as dt\n",
        "from datetime import datetime\n",
        "from pandas import Timestamp\n",
        "import xlrd\n",
        "import time\n"
      ],
      "metadata": {
        "id": "vc1de5pJ-NfR"
      },
      "execution_count": 348,
      "outputs": []
    },
    {
      "cell_type": "code",
      "source": [
        "def mud_uf(row):\n",
        "    if row['UF'] == 'ACRE':\n",
        "        return 'AC'\n",
        "    elif row['UF'] =='ALAGOAS':\n",
        "        return 'AL'\n",
        "    elif row['UF'] =='AMAPÁ':\n",
        "        return 'AP'\n",
        "    elif row['UF'] =='AMAZONAS':\n",
        "        return 'AM'\n",
        "    elif row['UF'] =='BAHIA':\n",
        "        return 'BA'\n",
        "    elif row['UF'] =='CEARÁ':\n",
        "        return 'CE'\n",
        "    elif row['UF'] =='DISTRITO FEDERAL':\n",
        "        return 'DF'\n",
        "    elif row['UF'] =='ESPIRITO SANTO ':\n",
        "        return 'ES'\n",
        "    elif row['UF'] =='GOIÁS':\n",
        "        return 'GO'\n",
        "    elif row['UF'] =='MARANHÃO':\n",
        "        return 'MA'\n",
        "    elif row['UF'] =='MATO GROSSO':\n",
        "        return 'MT'\n",
        "    elif row['UF'] =='MATO GROSSO DO SUL':\n",
        "        return 'MS'\n",
        "    elif row['UF'] =='MINAS GERAIS':\n",
        "        return 'MG'\n",
        "    elif row['UF'] =='PARÁ':\n",
        "        return 'PA'\n",
        "    elif row['UF'] =='PARAÍBA':\n",
        "        return 'PB'\n",
        "    elif row['UF'] =='PARANÁ':\n",
        "        return 'PR'\n",
        "    elif row['UF'] =='PERNAMBUCO':\n",
        "        return 'PE'\n",
        "    elif row['UF'] =='PIAUÍ':\n",
        "        return 'PI'\n",
        "    elif row['UF'] =='RIO DE JANEIRO':\n",
        "        return 'RJ'\n",
        "    elif row['UF'] =='RIO GRANDE DO NORTE':\n",
        "        return 'RN'\n",
        "    elif row['UF'] =='RIO GRANDE DO SUL':\n",
        "        return 'RS'\n",
        "    elif row['UF'] =='RONDÔNIA':\n",
        "        return 'RO'\n",
        "    elif row['UF'] =='RORAIMA':\n",
        "        return 'RR'\n",
        "    elif row['UF'] =='SANTA CATARINA':\n",
        "        return 'SC'\n",
        "    elif row['UF'] =='SÃO PAULO':\n",
        "        return 'SP'\n",
        "    elif row['UF'] =='SERGIPE':\n",
        "        return 'SE'\n",
        "    elif row['UF'] =='TOCANTINS':\n",
        "        return 'TO'\n",
        "    else:\n",
        "        return row['UF']"
      ],
      "metadata": {
        "id": "Ue-1at0ba4kU"
      },
      "execution_count": 350,
      "outputs": []
    },
    {
      "cell_type": "code",
      "source": [
        "def mud_mes(row):\n",
        "    if row['Mes'] == 'Jan':\n",
        "        return '01'\n",
        "    elif row['Mes'] =='Fev':\n",
        "        return '02'\n",
        "    elif row['Mes'] =='Mar':\n",
        "        return '03'\n",
        "    elif row['Mes'] =='Abr':\n",
        "        return '04'\n",
        "    elif row['Mes'] =='Mai':\n",
        "        return '05'\n",
        "    elif row['Mes'] =='Jun':\n",
        "        return '06'\n",
        "    elif row['Mes'] =='Jul':\n",
        "        return '07'\n",
        "    elif row['Mes'] =='Ago':\n",
        "        return '08'\n",
        "    elif row['Mes'] =='Set':\n",
        "        return '09'\n",
        "    elif row['Mes'] =='Out':\n",
        "        return '10'\n",
        "    elif row['Mes'] =='Nov':\n",
        "        return '11'\n",
        "    elif row['Mes'] =='Dez':\n",
        "        return '12'\n",
        "    else:\n",
        "        return row['Mes']"
      ],
      "metadata": {
        "id": "0oo60Vlu-8Xn"
      },
      "execution_count": 351,
      "outputs": []
    },
    {
      "cell_type": "markdown",
      "source": [
        "."
      ],
      "metadata": {
        "id": "ie8xA3wZF_UY"
      }
    },
    {
      "cell_type": "markdown",
      "source": [
        "  Diesel"
      ],
      "metadata": {
        "id": "_Rn4ageNR55K"
      }
    },
    {
      "cell_type": "code",
      "source": [
        "df_combustivelD1 = pd.read_excel('venda-combustiveis-M3.xlsx', sheet_name='DPCache_m3_2', nrows=1081, engine = \"openpyxl\")"
      ],
      "metadata": {
        "id": "wnn2i5xwFxUD"
      },
      "execution_count": 352,
      "outputs": []
    },
    {
      "cell_type": "code",
      "source": [
        "df_d= df_combustivelD1.melt(id_vars =['ANO','COMBUSTÍVEL','ESTADO','UNIDADE'], var_name='Mes', value_name='Volume');"
      ],
      "metadata": {
        "id": "LrdbgTrzFz0B"
      },
      "execution_count": 353,
      "outputs": []
    },
    {
      "cell_type": "code",
      "source": [
        "df_d = df_d[(df_d['Mes'] != 'TOTAL')]\n",
        "df_d = df_d[(df_d['Mes'] != 'REGIÃO')]"
      ],
      "metadata": {
        "id": "gjxYHjBXF3oz"
      },
      "execution_count": 354,
      "outputs": []
    },
    {
      "cell_type": "code",
      "source": [
        "times = datetime.now()\n",
        "df_d['Created_at']= pd.to_datetime(Timestamp(times))"
      ],
      "metadata": {
        "id": "ttd42nftGLvO"
      },
      "execution_count": 355,
      "outputs": []
    },
    {
      "cell_type": "markdown",
      "source": [
        "Renomenado e alterando os tipos dos dados"
      ],
      "metadata": {
        "id": "CU_kd3voLrcn"
      }
    },
    {
      "cell_type": "code",
      "source": [
        "df_d=df_d.rename({'COMBUSTÍVEL': 'Product'}, axis = 1)\n",
        "df_d['Product'] = df_d['Product'].astype('string')\n",
        "df_d=df_d.rename({'UNIDADE': 'Unit'}, axis = 1)\n",
        "df_d['Unit'] = df_d['Unit'].astype('string')\n",
        "df_d['Volume'] = df_d['Volume'].astype(float)\n",
        "df_d['Mes'] = df_d.apply(mud_mes, axis=1)\n",
        "\n",
        "\n"
      ],
      "metadata": {
        "id": "J33TE7G_GOPN"
      },
      "execution_count": 356,
      "outputs": []
    },
    {
      "cell_type": "code",
      "source": [
        "df_d=df_d.rename({'ESTADO': 'UF'}, axis = 1)\n",
        "df_d['UF'] = df_d.apply(mud_uf, axis=1)\n",
        "df_d['UF'] = df_d['UF'].astype('string')"
      ],
      "metadata": {
        "id": "FacCOB62pzvG"
      },
      "execution_count": 357,
      "outputs": []
    },
    {
      "cell_type": "markdown",
      "source": [
        "Concatenando mês e ano \n",
        "\n"
      ],
      "metadata": {
        "id": "ILONpvrVMAof"
      }
    },
    {
      "cell_type": "code",
      "source": [
        "df_d['Year_month']=pd.to_datetime"
      ],
      "metadata": {
        "id": "IEpXqZmKuZEb"
      },
      "execution_count": 358,
      "outputs": []
    },
    {
      "cell_type": "code",
      "source": [
        "df_d['Year_month'] = pd.to_datetime(df_d['Mes'].map(str) + df_d['ANO'].map(str)).dt.to_period('M')"
      ],
      "metadata": {
        "id": "3s46D9TNGRSN"
      },
      "execution_count": 359,
      "outputs": []
    },
    {
      "cell_type": "markdown",
      "source": [
        "Ordenando as colunas da tabela"
      ],
      "metadata": {
        "id": "6n_jVFY5MNYr"
      }
    },
    {
      "cell_type": "code",
      "source": [
        "df_d = df_d[['Year_month', 'UF', 'Product', 'Unit', 'Volume', 'Created_at']]"
      ],
      "metadata": {
        "id": "FkIdSpERGURy"
      },
      "execution_count": 360,
      "outputs": []
    },
    {
      "cell_type": "code",
      "source": [
        "display(df_d)"
      ],
      "metadata": {
        "colab": {
          "base_uri": "https://localhost:8080/",
          "height": 424
        },
        "id": "6WZBfaDfGW-j",
        "outputId": "f99a9349-e4c3-4cc7-db01-70c4b6792865"
      },
      "execution_count": 361,
      "outputs": [
        {
          "output_type": "display_data",
          "data": {
            "text/plain": [
              "      Year_month  UF                     Product  Unit    Volume  \\\n",
              "1080     2013-01  RO       ÓLEO DIESEL S-10 (m3)    m3  81453.67   \n",
              "1081     2013-01  AC       ÓLEO DIESEL S-10 (m3)    m3   1483.00   \n",
              "1082     2013-01  AM       ÓLEO DIESEL S-10 (m3)    m3   6836.30   \n",
              "1083     2013-01  RR       ÓLEO DIESEL S-10 (m3)    m3   1475.30   \n",
              "1084     2013-01  PA       ÓLEO DIESEL S-10 (m3)    m3  40913.48   \n",
              "...          ...  ..                         ...   ...       ...   \n",
              "14035    2020-12  RS  ÓLEO DIESEL (OUTROS ) (m3)    m3     10.00   \n",
              "14036    2020-12  MS  ÓLEO DIESEL (OUTROS ) (m3)    m3      0.00   \n",
              "14037    2020-12  MT  ÓLEO DIESEL (OUTROS ) (m3)    m3     90.00   \n",
              "14038    2020-12  GO  ÓLEO DIESEL (OUTROS ) (m3)    m3       NaN   \n",
              "14039    2020-12  DF  ÓLEO DIESEL (OUTROS ) (m3)  <NA>       NaN   \n",
              "\n",
              "                      Created_at  \n",
              "1080  2022-08-08 18:50:54.787273  \n",
              "1081  2022-08-08 18:50:54.787273  \n",
              "1082  2022-08-08 18:50:54.787273  \n",
              "1083  2022-08-08 18:50:54.787273  \n",
              "1084  2022-08-08 18:50:54.787273  \n",
              "...                          ...  \n",
              "14035 2022-08-08 18:50:54.787273  \n",
              "14036 2022-08-08 18:50:54.787273  \n",
              "14037 2022-08-08 18:50:54.787273  \n",
              "14038 2022-08-08 18:50:54.787273  \n",
              "14039 2022-08-08 18:50:54.787273  \n",
              "\n",
              "[12960 rows x 6 columns]"
            ],
            "text/html": [
              "\n",
              "  <div id=\"df-1c0dad9a-ff9e-4a28-a21e-915a14802a9d\">\n",
              "    <div class=\"colab-df-container\">\n",
              "      <div>\n",
              "<style scoped>\n",
              "    .dataframe tbody tr th:only-of-type {\n",
              "        vertical-align: middle;\n",
              "    }\n",
              "\n",
              "    .dataframe tbody tr th {\n",
              "        vertical-align: top;\n",
              "    }\n",
              "\n",
              "    .dataframe thead th {\n",
              "        text-align: right;\n",
              "    }\n",
              "</style>\n",
              "<table border=\"1\" class=\"dataframe\">\n",
              "  <thead>\n",
              "    <tr style=\"text-align: right;\">\n",
              "      <th></th>\n",
              "      <th>Year_month</th>\n",
              "      <th>UF</th>\n",
              "      <th>Product</th>\n",
              "      <th>Unit</th>\n",
              "      <th>Volume</th>\n",
              "      <th>Created_at</th>\n",
              "    </tr>\n",
              "  </thead>\n",
              "  <tbody>\n",
              "    <tr>\n",
              "      <th>1080</th>\n",
              "      <td>2013-01</td>\n",
              "      <td>RO</td>\n",
              "      <td>ÓLEO DIESEL S-10 (m3)</td>\n",
              "      <td>m3</td>\n",
              "      <td>81453.67</td>\n",
              "      <td>2022-08-08 18:50:54.787273</td>\n",
              "    </tr>\n",
              "    <tr>\n",
              "      <th>1081</th>\n",
              "      <td>2013-01</td>\n",
              "      <td>AC</td>\n",
              "      <td>ÓLEO DIESEL S-10 (m3)</td>\n",
              "      <td>m3</td>\n",
              "      <td>1483.00</td>\n",
              "      <td>2022-08-08 18:50:54.787273</td>\n",
              "    </tr>\n",
              "    <tr>\n",
              "      <th>1082</th>\n",
              "      <td>2013-01</td>\n",
              "      <td>AM</td>\n",
              "      <td>ÓLEO DIESEL S-10 (m3)</td>\n",
              "      <td>m3</td>\n",
              "      <td>6836.30</td>\n",
              "      <td>2022-08-08 18:50:54.787273</td>\n",
              "    </tr>\n",
              "    <tr>\n",
              "      <th>1083</th>\n",
              "      <td>2013-01</td>\n",
              "      <td>RR</td>\n",
              "      <td>ÓLEO DIESEL S-10 (m3)</td>\n",
              "      <td>m3</td>\n",
              "      <td>1475.30</td>\n",
              "      <td>2022-08-08 18:50:54.787273</td>\n",
              "    </tr>\n",
              "    <tr>\n",
              "      <th>1084</th>\n",
              "      <td>2013-01</td>\n",
              "      <td>PA</td>\n",
              "      <td>ÓLEO DIESEL S-10 (m3)</td>\n",
              "      <td>m3</td>\n",
              "      <td>40913.48</td>\n",
              "      <td>2022-08-08 18:50:54.787273</td>\n",
              "    </tr>\n",
              "    <tr>\n",
              "      <th>...</th>\n",
              "      <td>...</td>\n",
              "      <td>...</td>\n",
              "      <td>...</td>\n",
              "      <td>...</td>\n",
              "      <td>...</td>\n",
              "      <td>...</td>\n",
              "    </tr>\n",
              "    <tr>\n",
              "      <th>14035</th>\n",
              "      <td>2020-12</td>\n",
              "      <td>RS</td>\n",
              "      <td>ÓLEO DIESEL (OUTROS ) (m3)</td>\n",
              "      <td>m3</td>\n",
              "      <td>10.00</td>\n",
              "      <td>2022-08-08 18:50:54.787273</td>\n",
              "    </tr>\n",
              "    <tr>\n",
              "      <th>14036</th>\n",
              "      <td>2020-12</td>\n",
              "      <td>MS</td>\n",
              "      <td>ÓLEO DIESEL (OUTROS ) (m3)</td>\n",
              "      <td>m3</td>\n",
              "      <td>0.00</td>\n",
              "      <td>2022-08-08 18:50:54.787273</td>\n",
              "    </tr>\n",
              "    <tr>\n",
              "      <th>14037</th>\n",
              "      <td>2020-12</td>\n",
              "      <td>MT</td>\n",
              "      <td>ÓLEO DIESEL (OUTROS ) (m3)</td>\n",
              "      <td>m3</td>\n",
              "      <td>90.00</td>\n",
              "      <td>2022-08-08 18:50:54.787273</td>\n",
              "    </tr>\n",
              "    <tr>\n",
              "      <th>14038</th>\n",
              "      <td>2020-12</td>\n",
              "      <td>GO</td>\n",
              "      <td>ÓLEO DIESEL (OUTROS ) (m3)</td>\n",
              "      <td>m3</td>\n",
              "      <td>NaN</td>\n",
              "      <td>2022-08-08 18:50:54.787273</td>\n",
              "    </tr>\n",
              "    <tr>\n",
              "      <th>14039</th>\n",
              "      <td>2020-12</td>\n",
              "      <td>DF</td>\n",
              "      <td>ÓLEO DIESEL (OUTROS ) (m3)</td>\n",
              "      <td>&lt;NA&gt;</td>\n",
              "      <td>NaN</td>\n",
              "      <td>2022-08-08 18:50:54.787273</td>\n",
              "    </tr>\n",
              "  </tbody>\n",
              "</table>\n",
              "<p>12960 rows × 6 columns</p>\n",
              "</div>\n",
              "      <button class=\"colab-df-convert\" onclick=\"convertToInteractive('df-1c0dad9a-ff9e-4a28-a21e-915a14802a9d')\"\n",
              "              title=\"Convert this dataframe to an interactive table.\"\n",
              "              style=\"display:none;\">\n",
              "        \n",
              "  <svg xmlns=\"http://www.w3.org/2000/svg\" height=\"24px\"viewBox=\"0 0 24 24\"\n",
              "       width=\"24px\">\n",
              "    <path d=\"M0 0h24v24H0V0z\" fill=\"none\"/>\n",
              "    <path d=\"M18.56 5.44l.94 2.06.94-2.06 2.06-.94-2.06-.94-.94-2.06-.94 2.06-2.06.94zm-11 1L8.5 8.5l.94-2.06 2.06-.94-2.06-.94L8.5 2.5l-.94 2.06-2.06.94zm10 10l.94 2.06.94-2.06 2.06-.94-2.06-.94-.94-2.06-.94 2.06-2.06.94z\"/><path d=\"M17.41 7.96l-1.37-1.37c-.4-.4-.92-.59-1.43-.59-.52 0-1.04.2-1.43.59L10.3 9.45l-7.72 7.72c-.78.78-.78 2.05 0 2.83L4 21.41c.39.39.9.59 1.41.59.51 0 1.02-.2 1.41-.59l7.78-7.78 2.81-2.81c.8-.78.8-2.07 0-2.86zM5.41 20L4 18.59l7.72-7.72 1.47 1.35L5.41 20z\"/>\n",
              "  </svg>\n",
              "      </button>\n",
              "      \n",
              "  <style>\n",
              "    .colab-df-container {\n",
              "      display:flex;\n",
              "      flex-wrap:wrap;\n",
              "      gap: 12px;\n",
              "    }\n",
              "\n",
              "    .colab-df-convert {\n",
              "      background-color: #E8F0FE;\n",
              "      border: none;\n",
              "      border-radius: 50%;\n",
              "      cursor: pointer;\n",
              "      display: none;\n",
              "      fill: #1967D2;\n",
              "      height: 32px;\n",
              "      padding: 0 0 0 0;\n",
              "      width: 32px;\n",
              "    }\n",
              "\n",
              "    .colab-df-convert:hover {\n",
              "      background-color: #E2EBFA;\n",
              "      box-shadow: 0px 1px 2px rgba(60, 64, 67, 0.3), 0px 1px 3px 1px rgba(60, 64, 67, 0.15);\n",
              "      fill: #174EA6;\n",
              "    }\n",
              "\n",
              "    [theme=dark] .colab-df-convert {\n",
              "      background-color: #3B4455;\n",
              "      fill: #D2E3FC;\n",
              "    }\n",
              "\n",
              "    [theme=dark] .colab-df-convert:hover {\n",
              "      background-color: #434B5C;\n",
              "      box-shadow: 0px 1px 3px 1px rgba(0, 0, 0, 0.15);\n",
              "      filter: drop-shadow(0px 1px 2px rgba(0, 0, 0, 0.3));\n",
              "      fill: #FFFFFF;\n",
              "    }\n",
              "  </style>\n",
              "\n",
              "      <script>\n",
              "        const buttonEl =\n",
              "          document.querySelector('#df-1c0dad9a-ff9e-4a28-a21e-915a14802a9d button.colab-df-convert');\n",
              "        buttonEl.style.display =\n",
              "          google.colab.kernel.accessAllowed ? 'block' : 'none';\n",
              "\n",
              "        async function convertToInteractive(key) {\n",
              "          const element = document.querySelector('#df-1c0dad9a-ff9e-4a28-a21e-915a14802a9d');\n",
              "          const dataTable =\n",
              "            await google.colab.kernel.invokeFunction('convertToInteractive',\n",
              "                                                     [key], {});\n",
              "          if (!dataTable) return;\n",
              "\n",
              "          const docLinkHtml = 'Like what you see? Visit the ' +\n",
              "            '<a target=\"_blank\" href=https://colab.research.google.com/notebooks/data_table.ipynb>data table notebook</a>'\n",
              "            + ' to learn more about interactive tables.';\n",
              "          element.innerHTML = '';\n",
              "          dataTable['output_type'] = 'display_data';\n",
              "          await google.colab.output.renderOutput(dataTable, element);\n",
              "          const docLink = document.createElement('div');\n",
              "          docLink.innerHTML = docLinkHtml;\n",
              "          element.appendChild(docLink);\n",
              "        }\n",
              "      </script>\n",
              "    </div>\n",
              "  </div>\n",
              "  "
            ]
          },
          "metadata": {}
        }
      ]
    },
    {
      "cell_type": "markdown",
      "source": [
        "Tipos dos dados\n"
      ],
      "metadata": {
        "id": "yAq35FxvGwBu"
      }
    },
    {
      "cell_type": "code",
      "source": [
        "df_d.info()"
      ],
      "metadata": {
        "colab": {
          "base_uri": "https://localhost:8080/"
        },
        "id": "W3vUOfeKOxZc",
        "outputId": "12f09747-5037-4632-c862-bf9f3b8ce001"
      },
      "execution_count": 362,
      "outputs": [
        {
          "output_type": "stream",
          "name": "stdout",
          "text": [
            "<class 'pandas.core.frame.DataFrame'>\n",
            "Int64Index: 12960 entries, 1080 to 14039\n",
            "Data columns (total 6 columns):\n",
            " #   Column      Non-Null Count  Dtype         \n",
            "---  ------      --------------  -----         \n",
            " 0   Year_month  12960 non-null  period[M]     \n",
            " 1   UF          12960 non-null  string        \n",
            " 2   Product     12960 non-null  string        \n",
            " 3   Unit        12948 non-null  string        \n",
            " 4   Volume      12586 non-null  float64       \n",
            " 5   Created_at  12960 non-null  datetime64[ns]\n",
            "dtypes: datetime64[ns](1), float64(1), period[M](1), string(3)\n",
            "memory usage: 708.8 KB\n"
          ]
        }
      ]
    },
    {
      "cell_type": "markdown",
      "source": [
        ".\n"
      ],
      "metadata": {
        "id": "BLtAMmDTA5N4"
      }
    },
    {
      "cell_type": "markdown",
      "source": [
        ".\n"
      ],
      "metadata": {
        "id": "4DWhhSCCPJ0f"
      }
    },
    {
      "cell_type": "markdown",
      "source": [
        "Combustíveis derivados de petróleo\n",
        "\n"
      ],
      "metadata": {
        "id": "JjEgt4HvPAh3"
      }
    },
    {
      "cell_type": "code",
      "source": [
        "df_combustivelP1 = pd.read_excel(r'venda-combustiveis-M3.xlsx', sheet_name='DPCache_m3', nrows=4537, engine = \"openpyxl\")"
      ],
      "metadata": {
        "id": "ehj4mED6_hNY"
      },
      "execution_count": 363,
      "outputs": []
    },
    {
      "cell_type": "code",
      "source": [
        "df_p= df_combustivelP1.melt(id_vars =['ANO','COMBUSTÍVEL','ESTADO','UNIDADE'], var_name='Mes', value_name='Volume');"
      ],
      "metadata": {
        "id": "P395wwbH_i9f"
      },
      "execution_count": 364,
      "outputs": []
    },
    {
      "cell_type": "code",
      "source": [
        "df_p = df_p[(df_p['Mes'] != 'REGIÃO')]\n",
        "df_p = df_p[(df_p['Mes'] != 'TOTAL')]\n"
      ],
      "metadata": {
        "id": "B7z2xYcIFY88"
      },
      "execution_count": 365,
      "outputs": []
    },
    {
      "cell_type": "code",
      "source": [
        "times = datetime.now()\n",
        "df_p['Created_at']= Timestamp(times)"
      ],
      "metadata": {
        "id": "8QyjnyugFcbT"
      },
      "execution_count": 366,
      "outputs": []
    },
    {
      "cell_type": "markdown",
      "source": [
        "Renomenado e alterando os tipos dos dados\n"
      ],
      "metadata": {
        "id": "_FZpQkUJwYlf"
      }
    },
    {
      "cell_type": "code",
      "source": [
        "df_p=df_p.rename({'COMBUSTÍVEL': 'Product'}, axis = 1)\n",
        "df_p['Product'] = df_p['Product'].astype('string')\n",
        "df_p=df_p.rename({'UNIDADE': 'Unit'}, axis = 1)\n",
        "df_p['Unit'] = df_p['Unit'].astype('string')\n",
        "df_p['Volume'] = df_p['Volume'].astype(float)\n",
        "df_p['Mes'] = df_p.apply(mud_mes, axis=1)\n",
        "\n"
      ],
      "metadata": {
        "id": "qWWoRkm5Fd96"
      },
      "execution_count": 367,
      "outputs": []
    },
    {
      "cell_type": "code",
      "source": [
        "df_p=df_p.rename({'ESTADO': 'UF'}, axis = 1)\n",
        "df_p['UF'] = df_p.apply(mud_uf, axis=1)\n",
        "df_p['UF'] = df_p['UF'].astype('string')"
      ],
      "metadata": {
        "id": "L6G8hy-VwQb9"
      },
      "execution_count": 368,
      "outputs": []
    },
    {
      "cell_type": "code",
      "source": [
        "df_p['Year_month'] = pd.to_datetime(df_p['Mes'].map(str) + df_p['ANO'].map(str)).dt.to_period('M')"
      ],
      "metadata": {
        "id": "GE7E7FDNFglj"
      },
      "execution_count": 369,
      "outputs": []
    },
    {
      "cell_type": "markdown",
      "source": [
        "Ordenando as colunas da tabela"
      ],
      "metadata": {
        "id": "F11aF3V0xz_g"
      }
    },
    {
      "cell_type": "code",
      "source": [
        "df_p = df_p[['Year_month', 'UF', 'Product', 'Unit', 'Volume', 'Created_at']]"
      ],
      "metadata": {
        "id": "mEH8S0c7Fk2K"
      },
      "execution_count": 370,
      "outputs": []
    },
    {
      "cell_type": "code",
      "source": [
        "display(df_p)"
      ],
      "metadata": {
        "colab": {
          "base_uri": "https://localhost:8080/",
          "height": 424
        },
        "id": "kkCVBg8kFpQR",
        "outputId": "22cd06ce-b446-402d-dd67-9df7735dfe8b"
      },
      "execution_count": 371,
      "outputs": [
        {
          "output_type": "display_data",
          "data": {
            "text/plain": [
              "      Year_month  UF          Product Unit         Volume  \\\n",
              "4536     2000-01  RO  GASOLINA C (m3)   m3  136073.253000   \n",
              "4537     2000-01  AC  GASOLINA C (m3)   m3    3358.346000   \n",
              "4538     2000-01  AM  GASOLINA C (m3)   m3   20766.918000   \n",
              "4539     2000-01  RR  GASOLINA C (m3)   m3    3716.032000   \n",
              "4540     2000-01  PA  GASOLINA C (m3)   m3   29755.907000   \n",
              "...          ...  ..              ...  ...            ...   \n",
              "58963    2020-12  RS         GLP (m3)   m3   64045.161232   \n",
              "58964    2020-12  MS         GLP (m3)   m3   16281.139493   \n",
              "58965    2020-12  MT         GLP (m3)   m3   18321.987319   \n",
              "58966    2020-12  GO         GLP (m3)   m3   46850.585145   \n",
              "58967    2020-12  DF         GLP (m3)   m3  133282.702899   \n",
              "\n",
              "                      Created_at  \n",
              "4536  2022-08-08 18:51:13.500333  \n",
              "4537  2022-08-08 18:51:13.500333  \n",
              "4538  2022-08-08 18:51:13.500333  \n",
              "4539  2022-08-08 18:51:13.500333  \n",
              "4540  2022-08-08 18:51:13.500333  \n",
              "...                          ...  \n",
              "58963 2022-08-08 18:51:13.500333  \n",
              "58964 2022-08-08 18:51:13.500333  \n",
              "58965 2022-08-08 18:51:13.500333  \n",
              "58966 2022-08-08 18:51:13.500333  \n",
              "58967 2022-08-08 18:51:13.500333  \n",
              "\n",
              "[54432 rows x 6 columns]"
            ],
            "text/html": [
              "\n",
              "  <div id=\"df-95f0111c-b75e-4d91-8533-8aa2106a862e\">\n",
              "    <div class=\"colab-df-container\">\n",
              "      <div>\n",
              "<style scoped>\n",
              "    .dataframe tbody tr th:only-of-type {\n",
              "        vertical-align: middle;\n",
              "    }\n",
              "\n",
              "    .dataframe tbody tr th {\n",
              "        vertical-align: top;\n",
              "    }\n",
              "\n",
              "    .dataframe thead th {\n",
              "        text-align: right;\n",
              "    }\n",
              "</style>\n",
              "<table border=\"1\" class=\"dataframe\">\n",
              "  <thead>\n",
              "    <tr style=\"text-align: right;\">\n",
              "      <th></th>\n",
              "      <th>Year_month</th>\n",
              "      <th>UF</th>\n",
              "      <th>Product</th>\n",
              "      <th>Unit</th>\n",
              "      <th>Volume</th>\n",
              "      <th>Created_at</th>\n",
              "    </tr>\n",
              "  </thead>\n",
              "  <tbody>\n",
              "    <tr>\n",
              "      <th>4536</th>\n",
              "      <td>2000-01</td>\n",
              "      <td>RO</td>\n",
              "      <td>GASOLINA C (m3)</td>\n",
              "      <td>m3</td>\n",
              "      <td>136073.253000</td>\n",
              "      <td>2022-08-08 18:51:13.500333</td>\n",
              "    </tr>\n",
              "    <tr>\n",
              "      <th>4537</th>\n",
              "      <td>2000-01</td>\n",
              "      <td>AC</td>\n",
              "      <td>GASOLINA C (m3)</td>\n",
              "      <td>m3</td>\n",
              "      <td>3358.346000</td>\n",
              "      <td>2022-08-08 18:51:13.500333</td>\n",
              "    </tr>\n",
              "    <tr>\n",
              "      <th>4538</th>\n",
              "      <td>2000-01</td>\n",
              "      <td>AM</td>\n",
              "      <td>GASOLINA C (m3)</td>\n",
              "      <td>m3</td>\n",
              "      <td>20766.918000</td>\n",
              "      <td>2022-08-08 18:51:13.500333</td>\n",
              "    </tr>\n",
              "    <tr>\n",
              "      <th>4539</th>\n",
              "      <td>2000-01</td>\n",
              "      <td>RR</td>\n",
              "      <td>GASOLINA C (m3)</td>\n",
              "      <td>m3</td>\n",
              "      <td>3716.032000</td>\n",
              "      <td>2022-08-08 18:51:13.500333</td>\n",
              "    </tr>\n",
              "    <tr>\n",
              "      <th>4540</th>\n",
              "      <td>2000-01</td>\n",
              "      <td>PA</td>\n",
              "      <td>GASOLINA C (m3)</td>\n",
              "      <td>m3</td>\n",
              "      <td>29755.907000</td>\n",
              "      <td>2022-08-08 18:51:13.500333</td>\n",
              "    </tr>\n",
              "    <tr>\n",
              "      <th>...</th>\n",
              "      <td>...</td>\n",
              "      <td>...</td>\n",
              "      <td>...</td>\n",
              "      <td>...</td>\n",
              "      <td>...</td>\n",
              "      <td>...</td>\n",
              "    </tr>\n",
              "    <tr>\n",
              "      <th>58963</th>\n",
              "      <td>2020-12</td>\n",
              "      <td>RS</td>\n",
              "      <td>GLP (m3)</td>\n",
              "      <td>m3</td>\n",
              "      <td>64045.161232</td>\n",
              "      <td>2022-08-08 18:51:13.500333</td>\n",
              "    </tr>\n",
              "    <tr>\n",
              "      <th>58964</th>\n",
              "      <td>2020-12</td>\n",
              "      <td>MS</td>\n",
              "      <td>GLP (m3)</td>\n",
              "      <td>m3</td>\n",
              "      <td>16281.139493</td>\n",
              "      <td>2022-08-08 18:51:13.500333</td>\n",
              "    </tr>\n",
              "    <tr>\n",
              "      <th>58965</th>\n",
              "      <td>2020-12</td>\n",
              "      <td>MT</td>\n",
              "      <td>GLP (m3)</td>\n",
              "      <td>m3</td>\n",
              "      <td>18321.987319</td>\n",
              "      <td>2022-08-08 18:51:13.500333</td>\n",
              "    </tr>\n",
              "    <tr>\n",
              "      <th>58966</th>\n",
              "      <td>2020-12</td>\n",
              "      <td>GO</td>\n",
              "      <td>GLP (m3)</td>\n",
              "      <td>m3</td>\n",
              "      <td>46850.585145</td>\n",
              "      <td>2022-08-08 18:51:13.500333</td>\n",
              "    </tr>\n",
              "    <tr>\n",
              "      <th>58967</th>\n",
              "      <td>2020-12</td>\n",
              "      <td>DF</td>\n",
              "      <td>GLP (m3)</td>\n",
              "      <td>m3</td>\n",
              "      <td>133282.702899</td>\n",
              "      <td>2022-08-08 18:51:13.500333</td>\n",
              "    </tr>\n",
              "  </tbody>\n",
              "</table>\n",
              "<p>54432 rows × 6 columns</p>\n",
              "</div>\n",
              "      <button class=\"colab-df-convert\" onclick=\"convertToInteractive('df-95f0111c-b75e-4d91-8533-8aa2106a862e')\"\n",
              "              title=\"Convert this dataframe to an interactive table.\"\n",
              "              style=\"display:none;\">\n",
              "        \n",
              "  <svg xmlns=\"http://www.w3.org/2000/svg\" height=\"24px\"viewBox=\"0 0 24 24\"\n",
              "       width=\"24px\">\n",
              "    <path d=\"M0 0h24v24H0V0z\" fill=\"none\"/>\n",
              "    <path d=\"M18.56 5.44l.94 2.06.94-2.06 2.06-.94-2.06-.94-.94-2.06-.94 2.06-2.06.94zm-11 1L8.5 8.5l.94-2.06 2.06-.94-2.06-.94L8.5 2.5l-.94 2.06-2.06.94zm10 10l.94 2.06.94-2.06 2.06-.94-2.06-.94-.94-2.06-.94 2.06-2.06.94z\"/><path d=\"M17.41 7.96l-1.37-1.37c-.4-.4-.92-.59-1.43-.59-.52 0-1.04.2-1.43.59L10.3 9.45l-7.72 7.72c-.78.78-.78 2.05 0 2.83L4 21.41c.39.39.9.59 1.41.59.51 0 1.02-.2 1.41-.59l7.78-7.78 2.81-2.81c.8-.78.8-2.07 0-2.86zM5.41 20L4 18.59l7.72-7.72 1.47 1.35L5.41 20z\"/>\n",
              "  </svg>\n",
              "      </button>\n",
              "      \n",
              "  <style>\n",
              "    .colab-df-container {\n",
              "      display:flex;\n",
              "      flex-wrap:wrap;\n",
              "      gap: 12px;\n",
              "    }\n",
              "\n",
              "    .colab-df-convert {\n",
              "      background-color: #E8F0FE;\n",
              "      border: none;\n",
              "      border-radius: 50%;\n",
              "      cursor: pointer;\n",
              "      display: none;\n",
              "      fill: #1967D2;\n",
              "      height: 32px;\n",
              "      padding: 0 0 0 0;\n",
              "      width: 32px;\n",
              "    }\n",
              "\n",
              "    .colab-df-convert:hover {\n",
              "      background-color: #E2EBFA;\n",
              "      box-shadow: 0px 1px 2px rgba(60, 64, 67, 0.3), 0px 1px 3px 1px rgba(60, 64, 67, 0.15);\n",
              "      fill: #174EA6;\n",
              "    }\n",
              "\n",
              "    [theme=dark] .colab-df-convert {\n",
              "      background-color: #3B4455;\n",
              "      fill: #D2E3FC;\n",
              "    }\n",
              "\n",
              "    [theme=dark] .colab-df-convert:hover {\n",
              "      background-color: #434B5C;\n",
              "      box-shadow: 0px 1px 3px 1px rgba(0, 0, 0, 0.15);\n",
              "      filter: drop-shadow(0px 1px 2px rgba(0, 0, 0, 0.3));\n",
              "      fill: #FFFFFF;\n",
              "    }\n",
              "  </style>\n",
              "\n",
              "      <script>\n",
              "        const buttonEl =\n",
              "          document.querySelector('#df-95f0111c-b75e-4d91-8533-8aa2106a862e button.colab-df-convert');\n",
              "        buttonEl.style.display =\n",
              "          google.colab.kernel.accessAllowed ? 'block' : 'none';\n",
              "\n",
              "        async function convertToInteractive(key) {\n",
              "          const element = document.querySelector('#df-95f0111c-b75e-4d91-8533-8aa2106a862e');\n",
              "          const dataTable =\n",
              "            await google.colab.kernel.invokeFunction('convertToInteractive',\n",
              "                                                     [key], {});\n",
              "          if (!dataTable) return;\n",
              "\n",
              "          const docLinkHtml = 'Like what you see? Visit the ' +\n",
              "            '<a target=\"_blank\" href=https://colab.research.google.com/notebooks/data_table.ipynb>data table notebook</a>'\n",
              "            + ' to learn more about interactive tables.';\n",
              "          element.innerHTML = '';\n",
              "          dataTable['output_type'] = 'display_data';\n",
              "          await google.colab.output.renderOutput(dataTable, element);\n",
              "          const docLink = document.createElement('div');\n",
              "          docLink.innerHTML = docLinkHtml;\n",
              "          element.appendChild(docLink);\n",
              "        }\n",
              "      </script>\n",
              "    </div>\n",
              "  </div>\n",
              "  "
            ]
          },
          "metadata": {}
        }
      ]
    },
    {
      "cell_type": "markdown",
      "source": [
        "Conferindo os tipos de dados"
      ],
      "metadata": {
        "id": "wpdHXh4RFsIA"
      }
    },
    {
      "cell_type": "code",
      "source": [
        "df_p.info()"
      ],
      "metadata": {
        "colab": {
          "base_uri": "https://localhost:8080/"
        },
        "id": "BsP-AQr6FsbR",
        "outputId": "35dda8f8-3fa4-4e54-e4e2-c04085d4cb97"
      },
      "execution_count": 372,
      "outputs": [
        {
          "output_type": "stream",
          "name": "stdout",
          "text": [
            "<class 'pandas.core.frame.DataFrame'>\n",
            "Int64Index: 54432 entries, 4536 to 58967\n",
            "Data columns (total 6 columns):\n",
            " #   Column      Non-Null Count  Dtype         \n",
            "---  ------      --------------  -----         \n",
            " 0   Year_month  54432 non-null  period[M]     \n",
            " 1   UF          54432 non-null  string        \n",
            " 2   Product     54432 non-null  string        \n",
            " 3   Unit        54432 non-null  string        \n",
            " 4   Volume      53834 non-null  float64       \n",
            " 5   Created_at  54432 non-null  datetime64[ns]\n",
            "dtypes: datetime64[ns](1), float64(1), period[M](1), string(3)\n",
            "memory usage: 2.9 MB\n"
          ]
        }
      ]
    }
  ]
}